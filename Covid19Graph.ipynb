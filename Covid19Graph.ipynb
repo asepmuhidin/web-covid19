{
  "nbformat": 4,
  "nbformat_minor": 0,
  "metadata": {
    "colab": {
      "name": "Covid19Graph.ipynb",
      "provenance": [],
      "authorship_tag": "ABX9TyNuyT+EVqwB31q2aAgZNeAC",
      "include_colab_link": true
    },
    "kernelspec": {
      "name": "python3",
      "display_name": "Python 3"
    }
  },
  "cells": [
    {
      "cell_type": "markdown",
      "metadata": {
        "id": "view-in-github",
        "colab_type": "text"
      },
      "source": [
        "<a href=\"https://colab.research.google.com/github/asepmuhidin/web-covid19/blob/master/Covid19Graph.ipynb\" target=\"_parent\"><img src=\"https://colab.research.google.com/assets/colab-badge.svg\" alt=\"Open In Colab\"/></a>"
      ]
    },
    {
      "cell_type": "markdown",
      "metadata": {
        "id": "V6-T-v-xAkug",
        "colab_type": "text"
      },
      "source": [
        "# Grafik Perkembangan Kasus Covid-19 di Indonesia\n",
        "## Python - API - JSON - Pandas"
      ]
    },
    {
      "cell_type": "code",
      "metadata": {
        "id": "Qk3AwD5fAjgr",
        "colab_type": "code",
        "outputId": "a3eb2bc5-0667-4f0f-cc41-72dba9a2bcd2",
        "colab": {
          "base_uri": "https://localhost:8080/",
          "height": 102
        }
      },
      "source": [
        "## Install library requests\n",
        "!pip install requests"
      ],
      "execution_count": 1,
      "outputs": [
        {
          "output_type": "stream",
          "text": [
            "Requirement already satisfied: requests in /usr/local/lib/python3.6/dist-packages (2.21.0)\n",
            "Requirement already satisfied: idna<2.9,>=2.5 in /usr/local/lib/python3.6/dist-packages (from requests) (2.8)\n",
            "Requirement already satisfied: chardet<3.1.0,>=3.0.2 in /usr/local/lib/python3.6/dist-packages (from requests) (3.0.4)\n",
            "Requirement already satisfied: urllib3<1.25,>=1.21.1 in /usr/local/lib/python3.6/dist-packages (from requests) (1.24.3)\n",
            "Requirement already satisfied: certifi>=2017.4.17 in /usr/local/lib/python3.6/dist-packages (from requests) (2019.11.28)\n"
          ],
          "name": "stdout"
        }
      ]
    },
    {
      "cell_type": "markdown",
      "metadata": {
        "id": "NoG9GL48BFSR",
        "colab_type": "text"
      },
      "source": [
        "## Dapatkan URL API kawal korona"
      ]
    },
    {
      "cell_type": "code",
      "metadata": {
        "id": "3hdz6l3HCLvo",
        "colab_type": "code",
        "colab": {}
      },
      "source": [
        "url_ina=\"https://api.kawalcorona.com/indonesia/\"\n",
        "url_prov=\"https://api.kawalcorona.com/indonesia/provinsi/\""
      ],
      "execution_count": 0,
      "outputs": []
    },
    {
      "cell_type": "code",
      "metadata": {
        "id": "laI0no66DM78",
        "colab_type": "code",
        "outputId": "8406040d-67c4-46f9-c54f-75c16d35c214",
        "colab": {
          "base_uri": "https://localhost:8080/",
          "height": 34
        }
      },
      "source": [
        "##import requests\n",
        "import requests\n",
        "\n",
        "##dapatkan data JSON dari API \n",
        "json_ina=requests.get(url_ina).json()\n",
        "print(json_ina)"
      ],
      "execution_count": 3,
      "outputs": [
        {
          "output_type": "stream",
          "text": [
            "[{'name': 'Indonesia', 'positif': '2,738', 'sembuh': '204', 'meninggal': '221'}]\n"
          ],
          "name": "stdout"
        }
      ]
    },
    {
      "cell_type": "code",
      "metadata": {
        "id": "QiAg3VaRD8-K",
        "colab_type": "code",
        "colab": {}
      },
      "source": [
        "##Ambil data positif, sembuh dan meninggal\n",
        "positif=json_ina[0]['positif']\n",
        "sembuh=json_ina[0]['sembuh']\n",
        "\n",
        "meninggal=json_ina[0]['meninggal']"
      ],
      "execution_count": 0,
      "outputs": []
    },
    {
      "cell_type": "code",
      "metadata": {
        "id": "6A8xn9eiFb64",
        "colab_type": "code",
        "outputId": "8a5aca0a-4085-421f-d47f-80fcab99f8d3",
        "colab": {
          "base_uri": "https://localhost:8080/",
          "height": 319
        }
      },
      "source": [
        "##import matplotlib\n",
        "import matplotlib.pyplot as plt\n",
        "## buat grafik pie\n",
        "fig = plt.figure()\n",
        "ax = fig.add_axes([0,0,1,1])\n",
        "ax.axis('equal')\n",
        "kasus = ['Positif', 'Sembuh', 'Meninggal']\n",
        "jumlah = [int(positif.replace(',','')),int(sembuh),int(meninggal)]\n",
        "ax.pie(jumlah, labels = kasus,autopct='%1.2f%%')\n",
        "plt.show()"
      ],
      "execution_count": 5,
      "outputs": [
        {
          "output_type": "display_data",
          "data": {
            "image/png": "[encoded data removed]",
            "text/plain": [
              "<Figure size 432x288 with 1 Axes>"
            ]
          },
          "metadata": {
            "tags": []
          }
        }
      ]
    },
    {
      "cell_type": "markdown",
      "metadata": {
        "id": "NvxDSIq40YSm",
        "colab_type": "text"
      },
      "source": [
        "#Grafik Perkembangan Kasus Covid di Seluruh Provinsi Indonesia"
      ]
    },
    {
      "cell_type": "code",
      "metadata": {
        "id": "JEs3v4gx0l4o",
        "colab_type": "code",
        "colab": {}
      },
      "source": [
        "#Ambil data dari API kawalcoron : https://api.kawalcorona.com/indonesia/provinsi/\n",
        "# hasil request dirubah menjadi JSON\n",
        "\n",
        "r=requests.get(url_prov)\n",
        "jdata=r.json()"
      ],
      "execution_count": 0,
      "outputs": []
    },
    {
      "cell_type": "code",
      "metadata": {
        "id": "UM6_zO500tqH",
        "colab_type": "code",
        "colab": {}
      },
      "source": [
        "# Lihat Struktur data yang dihasilkan \n",
        "import json\n",
        "print(json.dumps(jdata,indent=4))"
      ],
      "execution_count": 0,
      "outputs": []
    },
    {
      "cell_type": "code",
      "metadata": {
        "id": "123Bb9us3EKb",
        "colab_type": "code",
        "colab": {}
      },
      "source": [
        "# Konversikan menjadi dataframe\n",
        "fid,kode_prov,provinsi,positif,sembuh,meninggal=[],[],[],[],[],[]\n",
        "for data in jdata:\n",
        "  fid.append(data['attributes']['FID'])\n",
        "  kode_prov.append(data['attributes']['Kode_Provi'])\n",
        "  provinsi.append(data['attributes']['Provinsi'])\n",
        "  positif.append(data['attributes']['Kasus_Posi'])\n",
        "  sembuh.append(data['attributes']['Kasus_Semb'])\n",
        "  meninggal.append(data['attributes']['Kasus_Meni'])\n",
        "\n",
        "#konversi menjadi dataframe\n",
        "import pandas as pd\n",
        "df=pd.DataFrame({\n",
        "    'FID':fid,\n",
        "    'Kode_Prov':kode_prov,\n",
        "    'Provinsi' :provinsi,\n",
        "    'Positif' : positif,\n",
        "    'Sembuh':sembuh,\n",
        "    'Meninggal' :meninggal\n",
        "})\n"
      ],
      "execution_count": 0,
      "outputs": []
    },
    {
      "cell_type": "code",
      "metadata": {
        "id": "_fkPKJj03R-K",
        "colab_type": "code",
        "colab": {
          "base_uri": "https://localhost:8080/",
          "height": 359
        },
        "outputId": "5ecdfa7d-a113-42bd-c8d3-57845f548513"
      },
      "source": [
        "# Lihat hasil dataframe\n",
        "df.head(10)"
      ],
      "execution_count": 17,
      "outputs": [
        {
          "output_type": "execute_result",
          "data": {
            "text/html": [
              "<div>\n",
              "<style scoped>\n",
              "    .dataframe tbody tr th:only-of-type {\n",
              "        vertical-align: middle;\n",
              "    }\n",
              "\n",
              "    .dataframe tbody tr th {\n",
              "        vertical-align: top;\n",
              "    }\n",
              "\n",
              "    .dataframe thead th {\n",
              "        text-align: right;\n",
              "    }\n",
              "</style>\n",
              "<table border=\"1\" class=\"dataframe\">\n",
              "  <thead>\n",
              "    <tr style=\"text-align: right;\">\n",
              "      <th></th>\n",
              "      <th>FID</th>\n",
              "      <th>Kode_Prov</th>\n",
              "      <th>Provinsi</th>\n",
              "      <th>Positif</th>\n",
              "      <th>Sembuh</th>\n",
              "      <th>Meninggal</th>\n",
              "    </tr>\n",
              "  </thead>\n",
              "  <tbody>\n",
              "    <tr>\n",
              "      <th>0</th>\n",
              "      <td>11</td>\n",
              "      <td>31</td>\n",
              "      <td>DKI Jakarta</td>\n",
              "      <td>1369</td>\n",
              "      <td>65</td>\n",
              "      <td>106</td>\n",
              "    </tr>\n",
              "    <tr>\n",
              "      <th>1</th>\n",
              "      <td>12</td>\n",
              "      <td>32</td>\n",
              "      <td>Jawa Barat</td>\n",
              "      <td>343</td>\n",
              "      <td>17</td>\n",
              "      <td>29</td>\n",
              "    </tr>\n",
              "    <tr>\n",
              "      <th>2</th>\n",
              "      <td>15</td>\n",
              "      <td>35</td>\n",
              "      <td>Jawa Timur</td>\n",
              "      <td>194</td>\n",
              "      <td>41</td>\n",
              "      <td>16</td>\n",
              "    </tr>\n",
              "    <tr>\n",
              "      <th>3</th>\n",
              "      <td>16</td>\n",
              "      <td>36</td>\n",
              "      <td>Banten</td>\n",
              "      <td>194</td>\n",
              "      <td>7</td>\n",
              "      <td>18</td>\n",
              "    </tr>\n",
              "    <tr>\n",
              "      <th>4</th>\n",
              "      <td>13</td>\n",
              "      <td>33</td>\n",
              "      <td>Jawa Tengah</td>\n",
              "      <td>133</td>\n",
              "      <td>14</td>\n",
              "      <td>22</td>\n",
              "    </tr>\n",
              "    <tr>\n",
              "      <th>5</th>\n",
              "      <td>27</td>\n",
              "      <td>73</td>\n",
              "      <td>Sulawesi Selatan</td>\n",
              "      <td>127</td>\n",
              "      <td>21</td>\n",
              "      <td>6</td>\n",
              "    </tr>\n",
              "    <tr>\n",
              "      <th>6</th>\n",
              "      <td>17</td>\n",
              "      <td>51</td>\n",
              "      <td>Bali</td>\n",
              "      <td>43</td>\n",
              "      <td>18</td>\n",
              "      <td>2</td>\n",
              "    </tr>\n",
              "    <tr>\n",
              "      <th>7</th>\n",
              "      <td>14</td>\n",
              "      <td>34</td>\n",
              "      <td>Daerah Istimewa Yogyakarta</td>\n",
              "      <td>41</td>\n",
              "      <td>1</td>\n",
              "      <td>3</td>\n",
              "    </tr>\n",
              "    <tr>\n",
              "      <th>8</th>\n",
              "      <td>23</td>\n",
              "      <td>64</td>\n",
              "      <td>Kalimantan Timur</td>\n",
              "      <td>31</td>\n",
              "      <td>1</td>\n",
              "      <td>1</td>\n",
              "    </tr>\n",
              "    <tr>\n",
              "      <th>9</th>\n",
              "      <td>2</td>\n",
              "      <td>12</td>\n",
              "      <td>Sumatera Utara</td>\n",
              "      <td>26</td>\n",
              "      <td>0</td>\n",
              "      <td>4</td>\n",
              "    </tr>\n",
              "  </tbody>\n",
              "</table>\n",
              "</div>"
            ],
            "text/plain": [
              "   FID  Kode_Prov                    Provinsi  Positif  Sembuh  Meninggal\n",
              "0   11         31                 DKI Jakarta     1369      65        106\n",
              "1   12         32                  Jawa Barat      343      17         29\n",
              "2   15         35                  Jawa Timur      194      41         16\n",
              "3   16         36                      Banten      194       7         18\n",
              "4   13         33                 Jawa Tengah      133      14         22\n",
              "5   27         73            Sulawesi Selatan      127      21          6\n",
              "6   17         51                        Bali       43      18          2\n",
              "7   14         34  Daerah Istimewa Yogyakarta       41       1          3\n",
              "8   23         64            Kalimantan Timur       31       1          1\n",
              "9    2         12              Sumatera Utara       26       0          4"
            ]
          },
          "metadata": {
            "tags": []
          },
          "execution_count": 17
        }
      ]
    },
    {
      "cell_type": "code",
      "metadata": {
        "id": "GsgmWsRO3M5p",
        "colab_type": "code",
        "colab": {
          "base_uri": "https://localhost:8080/",
          "height": 350
        },
        "outputId": "7f2b6ee5-2c05-4b53-8e41-392ae948b91d"
      },
      "source": [
        "#tampilkan dalam grafik\n",
        "plt.subplots(figsize=(15,5))\n",
        "plt.title(\"Grafik Perkembangan Kasus Covid-19 di Seluruh Provinsi Indonesia \")\n",
        "plt.grid(True)\n",
        "plt.plot(df.Provinsi[:5],df.Positif[:5], c=\"blue\", label=\"Positif\")\n",
        "plt.plot(df.Provinsi[:5],df.Sembuh[:5], c=\"green\", label=\"Sembuh\")\n",
        "plt.plot(df.Provinsi[:5],df.Meninggal[:5], c=\"red\", label=\"Meninggal\")\n",
        "plt.xlabel(\"Provinsi\")\n",
        "plt.legend(loc=\"upper right\")\n",
        "plt.show()"
      ],
      "execution_count": 19,
      "outputs": [
        {
          "output_type": "display_data",
          "data": {
            "image/png": "[encoded data removed]",
            "text/plain": [
              "<Figure size 1080x360 with 1 Axes>"
            ]
          },
          "metadata": {
            "tags": []
          }
        }
      ]
    }
  ]
}